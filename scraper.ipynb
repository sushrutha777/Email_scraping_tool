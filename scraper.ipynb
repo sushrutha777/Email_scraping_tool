{
 "cells": [
  {
   "cell_type": "code",
   "execution_count": 2,
   "metadata": {},
   "outputs": [
    {
     "name": "stdout",
     "output_type": "stream",
     "text": [
      "✅ Scraped and saved leads.csv successfully!\n"
     ]
    }
   ],
   "source": [
    "import requests\n",
    "from bs4 import BeautifulSoup\n",
    "import pandas as pd\n",
    "\n",
    "# Target website (Change to a publicly scrapable site)\n",
    "URL = \"https://quotes.toscrape.com\"\n",
    "\n",
    "# Request the page\n",
    "headers = {\"User-Agent\": \"Mozilla/5.0\"}\n",
    "response = requests.get(URL, headers=headers)\n",
    "\n",
    "# Check if the request was successful\n",
    "if response.status_code != 200:\n",
    "    print(f\"❌ Failed to fetch the page. Status Code: {response.status_code}\")\n",
    "    exit()\n",
    "\n",
    "# Parse the page\n",
    "soup = BeautifulSoup(response.text, \"html.parser\")\n",
    "\n",
    "# Extract data\n",
    "leads = []\n",
    "for quote in soup.select(\".quote\"):  # This works on the quotes site\n",
    "    text = quote.select_one(\".text\").text.strip()\n",
    "    author = quote.select_one(\".author\").text.strip()\n",
    "    tags = [tag.text for tag in quote.select(\".tags .tag\")]\n",
    "\n",
    "    leads.append({\"Quote\": text, \"Author\": author, \"Tags\": \", \".join(tags)})\n",
    "\n",
    "# Convert to DataFrame and save\n",
    "df = pd.DataFrame(leads)\n",
    "\n",
    "if df.empty:\n",
    "    print(\"❌ No data scraped! Check selectors.\")\n",
    "else:\n",
    "    df.to_csv(\"leads.csv\", index=False)\n",
    "    print(\"✅ Scraped and saved leads.csv successfully!\")\n"
   ]
  },
  {
   "cell_type": "code",
   "execution_count": null,
   "metadata": {},
   "outputs": [],
   "source": []
  }
 ],
 "metadata": {
  "kernelspec": {
   "display_name": "base",
   "language": "python",
   "name": "python3"
  },
  "language_info": {
   "codemirror_mode": {
    "name": "ipython",
    "version": 3
   },
   "file_extension": ".py",
   "mimetype": "text/x-python",
   "name": "python",
   "nbconvert_exporter": "python",
   "pygments_lexer": "ipython3",
   "version": "3.12.4"
  }
 },
 "nbformat": 4,
 "nbformat_minor": 2
}
