{
 "cells": [
  {
   "cell_type": "code",
   "execution_count": 5,
   "metadata": {},
   "outputs": [
    {
     "name": "stdout",
     "output_type": "stream",
     "text": [
      "Scraped and saved leads.csv successfully!\n"
     ]
    }
   ],
   "source": [
    "import requests\n",
    "from bs4 import BeautifulSoup\n",
    "import pandas as pd\n",
    "\n",
    "# Target website (replace with actual URL)\n",
    "URL = \"https://www.crunchbase.com\"\n",
    "\n",
    "# Request the page\n",
    "headers = {\"User-Agent\": \"Mozilla/5.0\"}\n",
    "response = requests.get(URL, headers=headers)\n",
    "soup = BeautifulSoup(response.text, \"html.parser\")\n",
    "\n",
    "# Extract data (Modify selectors based on the website)\n",
    "leads = []\n",
    "for item in soup.select(\".lead-item\"):  # Adjust CSS selector\n",
    "    name = item.select_one(\".name\").text.strip()\n",
    "    company = item.select_one(\".company\").text.strip()\n",
    "    email = item.select_one(\".email\").text.strip()\n",
    "    linkedin = item.select_one(\".linkedin a\")[\"href\"]\n",
    "\n",
    "    leads.append({\"Name\": name, \"Company\": company, \"Email\": email, \"LinkedIn\": linkedin})\n",
    "\n",
    "# Convert to DataFrame and remove duplicates\n",
    "df = pd.DataFrame(leads)\n",
    "df.drop_duplicates(subset=[\"Email\"], inplace=True)\n",
    "\n",
    "# Save to CSV\n",
    "df.to_csv(\"leads.csv\", index=False)\n",
    "print(\"Scraped and saved leads.csv successfully!\")\n"
   ]
  },
  {
   "cell_type": "code",
   "execution_count": null,
   "metadata": {},
   "outputs": [],
   "source": []
  }
 ],
 "metadata": {
  "kernelspec": {
   "display_name": "base",
   "language": "python",
   "name": "python3"
  },
  "language_info": {
   "codemirror_mode": {
    "name": "ipython",
    "version": 3
   },
   "file_extension": ".py",
   "mimetype": "text/x-python",
   "name": "python",
   "nbconvert_exporter": "python",
   "pygments_lexer": "ipython3",
   "version": "3.12.4"
  }
 },
 "nbformat": 4,
 "nbformat_minor": 2
}
